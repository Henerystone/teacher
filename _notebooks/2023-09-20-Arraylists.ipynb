{
 "cells": [
  {
   "cell_type": "markdown",
   "metadata": {},
   "source": [
    "# Arrays and Arraylists\n"
   ]
  },
  {
   "cell_type": "markdown",
   "metadata": {},
   "source": [
    "## Definition:\n",
    "> An Array is a collection of items of the same type, stored in sequence at memory locations.\n",
    "> An Array is used to store data and is used in almost every programming language out there.\n",
    "> In Java, an Arraylist is an Array that can be modified and they are more flexible and versatile.\n",
    "\n",
    "## Examples:\n",
    "<img width=\"1000\" alt=\"image\" src=\"https://github.com/Henerystone/ws2/assets/96998793/819ca302-d4c4-470d-b294-5ffd4ed918b9\">\n",
    "<br>\n",
    "<img width=\"1000\" alt=\"image\" src=\"https://github.com/Henerystone/ws2/assets/96998793/96588323-07c4-4d84-87b4-2257e16b0319\">\n",
    "<br>\n",
    "\n",
    "## FRQ Question:\n",
    "<img width=\"1000\" alt=\"image\" src=\"https://github.com/Henerystone/ws2/assets/96998793/38b21c5a-38d5-40bf-9c47-ca70f1ab7bc2\">\n",
    "<img width=\"1000\" alt=\"image\" src=\"https://github.com/Henerystone/ws2/assets/96998793/e14c3d0e-bebf-45b1-b50c-8ba1d6c5e372\">\n",
    "<img width=\"1000\" alt=\"image\" src=\"https://github.com/Henerystone/ws2/assets/96998793/d80cfc7f-b6d0-4f34-a11a-7a4b493ed914\">\n",
    "<img width=\"1000\" alt=\"image\" src=\"https://github.com/Henerystone/ws2/assets/96998793/86e911ac-8d6e-4044-ac04-d51ea6044459\">\n",
    "## Explaination:\n",
    "> First, We must read the question and understand what it is telling us.\n",
    "> Next, We figure out the solution via our understanding of java:"
   ]
  },
  {
   "cell_type": "markdown",
   "metadata": {},
   "source": [
    "- A:"
   ]
  },
  {
   "cell_type": "code",
   "execution_count": 1,
   "metadata": {},
   "outputs": [],
   "source": [
    "public double getAverageRating()\n",
    "{\n",
    " int sum = 0;\n",
    "\n",
    " for (Review r : allReviews)\n",
    " {\n",
    " sum += r.getRating();\n",
    " }\n",
    " return (double) sum / allReviews.length;\n",
    "}\n",
    "\n"
   ]
  },
  {
   "cell_type": "markdown",
   "metadata": {},
   "source": [
    "- B:"
   ]
  },
  {
   "cell_type": "code",
   "execution_count": null,
   "metadata": {},
   "outputs": [],
   "source": [
    "public ArrayList<String> collectComments()\n",
    "{\n",
    " ArrayList<String> commentList = new ArrayList<String>();\n",
    " for (int i = 0; i < allReviews.length; i++)\n",
    " {\n",
    " String comment = allReviews[i].getComment();\n",
    " if (comment.indexOf(\"!\") >= 0)\n",
    " {\n",
    " String last =\n",
    " comment.substring(comment.length() – 1);\n",
    " if (!last.equals(\"!\") && !last.equals(\".\"))\n",
    " {\n",
    " comment += \".\";\n",
    " }\n",
    " commentList.add(i + \"-\" + comment);\n",
    " }\n",
    " }\n",
    " return commentList;\n",
    "} "
   ]
  },
  {
   "cell_type": "markdown",
   "metadata": {},
   "source": [
    "<br>\n",
    "\n",
    "> This code defines a method named `getAverageRating()` that calculates and returns the average rating for a collection of reviews. Here's a breakdown of what the code does:\n",
    "\n",
    "1. It initializes an integer variable called `sum` with an initial value of 0. This variable will be used to accumulate the sum of all the ratings.\n",
    "\n",
    "2. It enters a for-each loop that iterates over a collection of reviews stored in the `allReviews` array or list (assuming `allReviews` is an array or list of `Review` objects).\n",
    "\n",
    "3. Inside the loop, for each `Review` object `r` in the `allReviews` collection, it retrieves the rating for that particular review using the `getRating()` method of the `Review` object and adds it to the `sum`. This step effectively accumulates the sum of all ratings in the collection.\n",
    "\n",
    "4. After the loop completes, it calculates the average rating by dividing the `sum` by the number of reviews in the `allReviews` collection. To ensure that the result is a decimal value (a double), it explicitly casts `sum` to a `double` before performing the division.\n",
    "\n",
    "5. Finally, it returns the calculated average rating as a double.\n",
    "\n",
    "In summary, this code computes the average rating for a collection of reviews by iterating through the reviews, summing up their ratings, and then dividing the sum by the number of reviews. It returns the average rating as a decimal (double) value.\n",
    "\n",
    "- The second part:\n",
    "This code defines a method named `collectComments()` that processes an array (or list) of reviews, performs some modifications to their comments, and then returns a list of formatted comments as strings. Let's break down what this code does step by step:\n",
    "\n",
    "1. It initializes an empty ArrayList of strings called `commentList`. This ArrayList will be used to store the processed comments.\n",
    "\n",
    "2. It enters a for loop that iterates through the elements of an array called `allReviews`. The loop variable `i` represents the index of the current review in the array.\n",
    "\n",
    "3. Inside the loop, it retrieves the comment associated with the current review using the `getComment()` method and stores it in a string variable called `comment`.\n",
    "\n",
    "4. It checks if the `comment` contains an exclamation mark ('!') using the `indexOf(\"!\")` method. If an exclamation mark is found in the comment, it proceeds to modify it.\n",
    "\n",
    "5. It extracts the last character of the `comment` using the `substring()` method. This character is stored in a string variable called `last`.\n",
    "\n",
    "6. It checks if `last` is not equal to an exclamation mark ('!') and not equal to a period ('.'). If `last` is neither '!' nor '.', it appends a period ('.') to the end of the `comment`.\n",
    "\n",
    "7. It constructs a new string by concatenating the index `i`, a hyphen ('-'), and the modified `comment`. This new string is then added to the `commentList` ArrayList.\n",
    "\n",
    "8. The loop continues to the next review, repeating the process for each review in the `allReviews` array.\n",
    "\n",
    "9. After processing all the reviews, the method returns the `commentList` ArrayList, which contains the formatted comments.\n",
    "\n",
    "In summary, this code processes a collection of reviews, checks if each review's comment contains an exclamation mark ('!'), and ensures that the comment ends with a period ('.') if it doesn't already. It then constructs a string in the format \"index-comment\" and adds it to an ArrayList. The method ultimately returns the ArrayList of formatted comments."
   ]
  }
 ],
 "metadata": {
  "kernelspec": {
   "display_name": "Java",
   "language": "java",
   "name": "java"
  },
  "language_info": {
   "codemirror_mode": "java",
   "file_extension": ".jshell",
   "mimetype": "text/x-java-source",
   "name": "java",
   "pygments_lexer": "java",
   "version": "11.0.20+8-post-Ubuntu-1ubuntu120.04"
  },
  "orig_nbformat": 4
 },
 "nbformat": 4,
 "nbformat_minor": 2
}
