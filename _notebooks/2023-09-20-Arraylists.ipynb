{
 "cells": [
  {
   "cell_type": "markdown",
   "metadata": {},
   "source": [
    "# Arrays and Arraylists\n"
   ]
  },
  {
   "cell_type": "markdown",
   "metadata": {},
   "source": [
    "## Definition:\n",
    "> An Array is a collection of items of the same type, stored in sequence at memory locations.\n",
    "> An Array is used to store data and is used in almost every programming language out there.\n",
    "> In Java, an Arraylist is an Array that can be modified and they are more flexible and versatile.\n",
    "\n",
    "## Examples:\n",
    "<img width=\"1000\" alt=\"image\" src=\"https://github.com/Henerystone/ws2/assets/96998793/819ca302-d4c4-470d-b294-5ffd4ed918b9\">\n",
    "<br>\n",
    "<img width=\"1000\" alt=\"image\" src=\"https://github.com/Henerystone/ws2/assets/96998793/96588323-07c4-4d84-87b4-2257e16b0319\">\n",
    "<br>\n",
    "\n",
    "## FRQ Question:\n",
    "<img width=\"1000\" alt=\"image\" src=\"https://github.com/Henerystone/ws2/assets/96998793/f7137b84-b2b2-49f1-8eea-d92d052834f4\">\n",
    "<img width=\"1000\" alt=\"image\" src=\"https://github.com/Henerystone/ws2/assets/96998793/8b224a21-947d-431c-9740-4087ea1d37d2\">\n",
    "<img width=\"1000\" alt=\"image\" src=\"https://github.com/Henerystone/ws2/assets/96998793/3c90a37c-ca32-4471-a2b8-43eaed21697b\">\n",
    "<img width=\"1000\" alt=\"image\" src=\"https://github.com/Henerystone/ws2/assets/96998793/f2293b49-f475-42ab-96f4-4b4459d4d0a9\">\n",
    "\n",
    "## Explaination:\n",
    "> First, We must read the question and understand what it is telling us.\n",
    "> Next, We figure out the solution via our understanding of java:\n",
    "<br>\n",
    "<img width=\"1000\" alt=\"image\" src=\"https://github.com/Henerystone/ws2/assets/96998793/27bbc71c-234f-417a-b5c0-034be85c965e\">\n",
    "\n",
    "> This code defines a method named `getAverageRating()` that calculates and returns the average rating for a collection of reviews. Here's a breakdown of what the code does:\n",
    "\n",
    "1. It initializes an integer variable called `sum` with an initial value of 0. This variable will be used to accumulate the sum of all the ratings.\n",
    "\n",
    "2. It enters a for-each loop that iterates over a collection of reviews stored in the `allReviews` array or list (assuming `allReviews` is an array or list of `Review` objects).\n",
    "\n",
    "3. Inside the loop, for each `Review` object `r` in the `allReviews` collection, it retrieves the rating for that particular review using the `getRating()` method of the `Review` object and adds it to the `sum`. This step effectively accumulates the sum of all ratings in the collection.\n",
    "\n",
    "4. After the loop completes, it calculates the average rating by dividing the `sum` by the number of reviews in the `allReviews` collection. To ensure that the result is a decimal value (a double), it explicitly casts `sum` to a `double` before performing the division.\n",
    "\n",
    "5. Finally, it returns the calculated average rating as a double.\n",
    "\n",
    "In summary, this code computes the average rating for a collection of reviews by iterating through the reviews, summing up their ratings, and then dividing the sum by the number of reviews. It returns the average rating as a decimal (double) value.\n",
    "\n",
    "- The second part:\n",
    "This code defines a method named `collectComments()` that processes an array (or list) of reviews, performs some modifications to their comments, and then returns a list of formatted comments as strings. Let's break down what this code does step by step:\n",
    "\n",
    "1. It initializes an empty ArrayList of strings called `commentList`. This ArrayList will be used to store the processed comments.\n",
    "\n",
    "2. It enters a for loop that iterates through the elements of an array called `allReviews`. The loop variable `i` represents the index of the current review in the array.\n",
    "\n",
    "3. Inside the loop, it retrieves the comment associated with the current review using the `getComment()` method and stores it in a string variable called `comment`.\n",
    "\n",
    "4. It checks if the `comment` contains an exclamation mark ('!') using the `indexOf(\"!\")` method. If an exclamation mark is found in the comment, it proceeds to modify it.\n",
    "\n",
    "5. It extracts the last character of the `comment` using the `substring()` method. This character is stored in a string variable called `last`.\n",
    "\n",
    "6. It checks if `last` is not equal to an exclamation mark ('!') and not equal to a period ('.'). If `last` is neither '!' nor '.', it appends a period ('.') to the end of the `comment`.\n",
    "\n",
    "7. It constructs a new string by concatenating the index `i`, a hyphen ('-'), and the modified `comment`. This new string is then added to the `commentList` ArrayList.\n",
    "\n",
    "8. The loop continues to the next review, repeating the process for each review in the `allReviews` array.\n",
    "\n",
    "9. After processing all the reviews, the method returns the `commentList` ArrayList, which contains the formatted comments.\n",
    "\n",
    "In summary, this code processes a collection of reviews, checks if each review's comment contains an exclamation mark ('!'), and ensures that the comment ends with a period ('.') if it doesn't already. It then constructs a string in the format \"index-comment\" and adds it to an ArrayList. The method ultimately returns the ArrayList of formatted comments."
   ]
  }
 ],
 "metadata": {
  "language_info": {
   "name": "python"
  },
  "orig_nbformat": 4
 },
 "nbformat": 4,
 "nbformat_minor": 2
}
