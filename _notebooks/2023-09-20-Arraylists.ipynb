{
 "cells": [
  {
   "cell_type": "markdown",
   "metadata": {},
   "source": [
    "---\n",
    "toc: true\n",
    "comments: true\n",
    "layout: post\n",
    "title: Arrays and Arraylists\n",
    "---"
   ]
  },
  {
   "cell_type": "markdown",
   "metadata": {},
   "source": [
    "## Definition:\n",
    "> An Array is a collection of items of the same type, stored in sequence at memory locations.\n",
    "> An Array is used to store data and is used in almost every programming language out there.\n",
    "> In Java, an Arraylist is an Array that can be modified and they are more flexible and versatile.\n",
    "\n",
    "## Examples:\n",
    "![alt](site.baseurl/images/Arraylist.png)\n",
    "![Alt text](reverse.png)\n",
    "\n",
    "## FRQ Question:\n",
    "![Alt text](question_a.png)\n",
    "![Alt text](question_b.png)\n",
    "![Alt text](question_c.png)\n",
    "![Alt text](question_d.png)\n",
    "\n",
    "## Explaination:\n",
    "> First, We must read the question and understand what it is telling us.\n",
    "> Next, We figure out the solution via our understanding of java:\n",
    "![Alt text](image.png)"
   ]
  }
 ],
 "metadata": {
  "language_info": {
   "name": "python"
  },
  "orig_nbformat": 4
 },
 "nbformat": 4,
 "nbformat_minor": 2
}
